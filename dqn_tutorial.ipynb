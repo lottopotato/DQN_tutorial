{
 "cells": [
  {
   "cell_type": "code",
   "execution_count": 1,
   "metadata": {},
   "outputs": [],
   "source": [
    "import numpy as np\n",
    "import tensorflow as tf\n",
    "import random\n",
    "from collections import deque\n",
    "import dqn\n",
    "import gym\n",
    "import matplotlib.pyplot as plt"
   ]
  },
  {
   "cell_type": "code",
   "execution_count": 2,
   "metadata": {},
   "outputs": [
    {
     "name": "stdout",
     "output_type": "stream",
     "text": [
      "\u001b[33mWARN: gym.spaces.Box autodetected dtype as <class 'numpy.float32'>. Please provide explicit dtype.\u001b[0m\n"
     ]
    }
   ],
   "source": [
    "env = gym.make('CartPole-v0')\n",
    "#env = gym.wrappers.Monitor(env, directory=\"result/\", force = True)\n",
    "INPUT_SIZE = env.observation_space.shape[0]\n",
    "OUTPUT_SIZE = env.action_space.n\n",
    "\n",
    "DISCOUNT_RATE = 0.9\n",
    "REPLAY_MEMORY = 50000\n",
    "BATCH_SIZE = 64\n",
    "TARGET_UPDATE_FREQUENCY = 5\n",
    "MAX_EPISODES = 1000"
   ]
  },
  {
   "cell_type": "code",
   "execution_count": 3,
   "metadata": {},
   "outputs": [],
   "source": [
    "def replay_train(mainDQN:dqn.DQN, targetDQN:dqn.DQN, train_batch:list):\n",
    "    \" train mainDQN with target Q vaues given by targetDQN\"\n",
    "    states = np.vstack([x[0] for x in train_batch])\n",
    "    actions = np.array([x[1] for x in train_batch])\n",
    "    rewards = np.array([x[2] for x in train_batch])\n",
    "    next_states = np.array([x[3] for x in train_batch])\n",
    "    done = np.array([x[4] for x in train_batch])\n",
    "    \n",
    "    X = states\n",
    "    \n",
    "    Q_target = rewards + DISCOUNT_RATE * np.max(targetDQN.predict(next_states), axis=1) * ~done\n",
    "    \n",
    "    y = mainDQN.predict(states)\n",
    "    y[np.arange(len(X)), actions] = Q_target\n",
    "    return mainDQN.update(X, y)    \n",
    "\n",
    "def get_copy_var_ops(*, dest_scope_name:str, src_scope_name:str):\n",
    "    op_holder = []\n",
    "    src_vars = tf.get_collection(tf.GraphKeys.TRAINABLE_VARIABLES, scope=src_scope_name)\n",
    "    dest_vars = tf.get_collection(tf.GraphKeys.TRAINABLE_VARIABLES, scope=dest_scope_name)\n",
    "    for src_var, dest_var in zip(src_vars, dest_vars):\n",
    "        op_holder.append(dest_var.assign(src_var.value()))\n",
    "    return op_holder\n",
    "\n",
    "\n",
    "def bot_play(mainDQN: dqn.DQN, env:gym.Env):\n",
    "    states = env.reset()\n",
    "    reward_sum = 0\n",
    "    \n",
    "    while True:\n",
    "        env.render()\n",
    "        action = np.argmax(mainDQN.predict(state))\n",
    "        state. reward, done, _ = env.step(action)\n",
    "        reward_sum += reward\n",
    "        if done:\n",
    "            print(\"\\n Total score: {}\".format(reward_sum))\n",
    "            break\n",
    "            \n"
   ]
  },
  {
   "cell_type": "code",
   "execution_count": 4,
   "metadata": {},
   "outputs": [],
   "source": [
    "def main():\n",
    "    replay_buffer = deque(maxlen=REPLAY_MEMORY)\n",
    "    last_100_game_reward = deque(maxlen=100)\n",
    "    step_list = []\n",
    "    loss_list = []\n",
    "    \n",
    "    with tf.Session() as sess:\n",
    "        mainDQN = dqn.DQN(sess, INPUT_SIZE, OUTPUT_SIZE, name=\"main\")\n",
    "        targetDQN = dqn.DQN(sess, INPUT_SIZE, OUTPUT_SIZE, name=\"target\")\n",
    "        sess.run(tf.global_variables_initializer())\n",
    "        \n",
    "        copy_ops = get_copy_var_ops(dest_scope_name = \"target\",\n",
    "                                   src_scope_name = \"main\")\n",
    "        sess.run(copy_ops)\n",
    "        \n",
    "        for epi in range(MAX_EPISODES):\n",
    "            e = 1./((epi/10)+1)\n",
    "            done = False\n",
    "            step_count = 0\n",
    "            state = env.reset()\n",
    "            loss = 0\n",
    "            \n",
    "            while not done:\n",
    "                if np.random.rand() < e:\n",
    "                    action = env.action_space.sample()\n",
    "                else:\n",
    "                    action = np.argmax(mainDQN.predict(state))\n",
    "                next_state, reward, done, _ = env.step(action)\n",
    "                \n",
    "                if done:\n",
    "                    reward = -1\n",
    "                    \n",
    "                replay_buffer.append((state, action, reward, next_state, done))\n",
    "                \n",
    "                if len(replay_buffer) > BATCH_SIZE:\n",
    "                    minibatch = random.sample(replay_buffer, BATCH_SIZE)\n",
    "                    loss, _ = replay_train(mainDQN, targetDQN, minibatch)\n",
    "                    \n",
    "                    \n",
    "                if step_count % TARGET_UPDATE_FREQUENCY == 0:\n",
    "                    sess.run(copy_ops)\n",
    "                \n",
    "                state = next_state\n",
    "                step_count += 1\n",
    "                \n",
    "            print(\"Episode : {} step : {} episode_loss : {}\".format(epi+1, step_count, loss), end = \"\\r\")\n",
    "            step_list.append(step_count)\n",
    "            loss_list.append(loss)\n",
    "            last_100_game_reward.append(step_count)\n",
    "            \n",
    "            if len(last_100_game_reward) == last_100_game_reward.maxlen:\n",
    "                avg_reward = np.mean(last_100_game_reward)\n",
    "                if avg_reward > 199:\n",
    "                    print(\"\\n Game cleared in {} episode with avg reward {}\".format(epi+1, avg_reward))\n",
    "                    break\n",
    "                    \n",
    "        step_array = np.asarray(step_list)\n",
    "        loss_array = np.asarray(loss_list)\n",
    "        _, plot = plt.subplots(1,2)\n",
    "        plot[0].plot(step_array)\n",
    "        plot[1].plot(loss_array)\n",
    "        plt.show()"
   ]
  },
  {
   "cell_type": "code",
   "execution_count": 5,
   "metadata": {
    "scrolled": true
   },
   "outputs": [
    {
     "name": "stdout",
     "output_type": "stream",
     "text": [
      "Episode : 160 step : 200 episode_loss : 0.854493618011474665\n",
      " Game cleared in 160 episode with avg reward 199.09\n"
     ]
    },
    {
     "data": {
      "image/png": "[encoded data removed]",
      "text/plain": [
       "<Figure size 432x288 with 2 Axes>"
      ]
     },
     "metadata": {},
     "output_type": "display_data"
    }
   ],
   "source": [
    "main()"
   ]
  },
  {
   "cell_type": "code",
   "execution_count": null,
   "metadata": {},
   "outputs": [],
   "source": []
  }
 ],
 "metadata": {
  "kernelspec": {
   "display_name": "Python 3",
   "language": "python",
   "name": "python3"
  },
  "language_info": {
   "codemirror_mode": {
    "name": "ipython",
    "version": 3
   },
   "file_extension": ".py",
   "mimetype": "text/x-python",
   "name": "python",
   "nbconvert_exporter": "python",
   "pygments_lexer": "ipython3",
   "version": "3.6.4"
  }
 },
 "nbformat": 4,
 "nbformat_minor": 2
}
